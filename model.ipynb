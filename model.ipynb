{
 "cells": [
  {
   "cell_type": "code",
   "execution_count": 1,
   "metadata": {},
   "outputs": [],
   "source": [
    "from tensorflow.keras.preprocessing.image import ImageDataGenerator\n",
    "from tensorflow.keras.preprocessing import image\n",
    "from tensorflow.keras.optimizers import RMSprop\n",
    "import matplotlib.pyplot as plt\n",
    "import tensorflow as tf\n",
    "import numpy as np\n",
    "import cv2\n",
    "import os\n",
    "from basedata import train, validation"
   ]
  },
  {
   "cell_type": "code",
   "execution_count": 2,
   "metadata": {},
   "outputs": [],
   "source": [
    "train = ImageDataGenerator(rescale=1/255)\n",
    "validation = ImageDataGenerator(rescale=1/255)"
   ]
  },
  {
   "cell_type": "code",
   "execution_count": 3,
   "metadata": {},
   "outputs": [
    {
     "name": "stdout",
     "output_type": "stream",
     "text": [
      "Found 20001 images belonging to 2 classes.\n",
      "Found 13001 images belonging to 2 classes.\n"
     ]
    }
   ],
   "source": [
    "train_dataset = train.flow_from_directory('basedata//train//',\n",
    "                                          target_size=(200,200),\n",
    "                                          batch_size = 32,\n",
    "                                          class_mode = 'binary')\n",
    "\n",
    "validation_dataset = train.flow_from_directory('basedata//validation//',\n",
    "                                          target_size=(200,200),\n",
    "                                          batch_size = 32,\n",
    "                                          class_mode = 'binary')"
   ]
  },
  {
   "cell_type": "code",
   "execution_count": 4,
   "metadata": {},
   "outputs": [
    {
     "name": "stderr",
     "output_type": "stream",
     "text": [
      "c:\\Users\\Shubham\\AppData\\Local\\Programs\\Python\\Python311\\Lib\\site-packages\\keras\\src\\layers\\convolutional\\base_conv.py:99: UserWarning: Do not pass an `input_shape`/`input_dim` argument to a layer. When using Sequential models, prefer using an `Input(shape)` object as the first layer in the model instead.\n",
      "  super().__init__(\n"
     ]
    }
   ],
   "source": [
    "model = tf.keras.models.Sequential([tf.keras.layers.Conv2D(16,(3,3),activation='relu',input_shape = (200,200,3)),\n",
    "                                    tf.keras.layers.MaxPool2D(2,2),\n",
    "                                    #\n",
    "                                    tf.keras.layers.Conv2D(32,(3,3),activation='relu',input_shape = (200,200,3)),\n",
    "                                    tf.keras.layers.MaxPool2D(2,2),\n",
    "                                    #\n",
    "                                    tf.keras.layers.Conv2D(64,(3,3),activation='relu',input_shape = (200,200,3)),\n",
    "                                    tf.keras.layers.MaxPool2D(2,2),\n",
    "                                    #\n",
    "                                    tf.keras.layers.Flatten(),\n",
    "                                    #\n",
    "                                    #tf.keras.layers.Dense(33856,activation='relu'),\n",
    "                                    tf.keras.layers.Dense(512, activation= 'relu'),\n",
    "                                    #\n",
    "                                    tf.keras.layers.Dense(1,activation='sigmoid')\n",
    "                                   ]\n",
    "                                   )"
   ]
  },
  {
   "cell_type": "code",
   "execution_count": 5,
   "metadata": {},
   "outputs": [],
   "source": [
    "model.compile(loss='binary_crossentropy',\n",
    "              optimizer = RMSprop(learning_rate=0.001),\n",
    "              metrics=['accuracy'])"
   ]
  },
  {
   "cell_type": "code",
   "execution_count": 6,
   "metadata": {},
   "outputs": [
    {
     "name": "stdout",
     "output_type": "stream",
     "text": [
      "Epoch 1/30\n"
     ]
    },
    {
     "name": "stderr",
     "output_type": "stream",
     "text": [
      "c:\\Users\\Shubham\\AppData\\Local\\Programs\\Python\\Python311\\Lib\\site-packages\\keras\\src\\trainers\\data_adapters\\py_dataset_adapter.py:120: UserWarning: Your `PyDataset` class should call `super().__init__(**kwargs)` in its constructor. `**kwargs` can include `workers`, `use_multiprocessing`, `max_queue_size`. Do not pass these arguments to `fit()`, as they will be ignored.\n",
      "  self._warn_if_super_not_called()\n"
     ]
    },
    {
     "name": "stdout",
     "output_type": "stream",
     "text": [
      "\u001b[1m19/19\u001b[0m \u001b[32m━━━━━━━━━━━━━━━━━━━━\u001b[0m\u001b[37m\u001b[0m \u001b[1m182s\u001b[0m 7s/step - accuracy: 0.4783 - loss: 2.1375 - val_accuracy: 0.5703 - val_loss: 0.6774\n",
      "Epoch 2/30\n",
      "\u001b[1m19/19\u001b[0m \u001b[32m━━━━━━━━━━━━━━━━━━━━\u001b[0m\u001b[37m\u001b[0m \u001b[1m94s\u001b[0m 5s/step - accuracy: 0.5996 - loss: 0.6695 - val_accuracy: 0.7214 - val_loss: 0.6415\n",
      "Epoch 3/30\n",
      "\u001b[1m19/19\u001b[0m \u001b[32m━━━━━━━━━━━━━━━━━━━━\u001b[0m\u001b[37m\u001b[0m \u001b[1m149s\u001b[0m 8s/step - accuracy: 0.6309 - loss: 0.6385 - val_accuracy: 0.5781 - val_loss: 0.6867\n",
      "Epoch 4/30\n",
      "\u001b[1m19/19\u001b[0m \u001b[32m━━━━━━━━━━━━━━━━━━━━\u001b[0m\u001b[37m\u001b[0m \u001b[1m72s\u001b[0m 4s/step - accuracy: 0.6959 - loss: 0.6513 - val_accuracy: 0.6198 - val_loss: 0.6139\n",
      "Epoch 5/30\n",
      "\u001b[1m19/19\u001b[0m \u001b[32m━━━━━━━━━━━━━━━━━━━━\u001b[0m\u001b[37m\u001b[0m \u001b[1m61s\u001b[0m 3s/step - accuracy: 0.7140 - loss: 0.5393 - val_accuracy: 0.7266 - val_loss: 0.5529\n",
      "Epoch 6/30\n",
      "\u001b[1m19/19\u001b[0m \u001b[32m━━━━━━━━━━━━━━━━━━━━\u001b[0m\u001b[37m\u001b[0m \u001b[1m120s\u001b[0m 7s/step - accuracy: 0.7401 - loss: 0.5228 - val_accuracy: 0.6406 - val_loss: 0.6023\n",
      "Epoch 7/30\n",
      "\u001b[1m19/19\u001b[0m \u001b[32m━━━━━━━━━━━━━━━━━━━━\u001b[0m\u001b[37m\u001b[0m \u001b[1m73s\u001b[0m 4s/step - accuracy: 0.7397 - loss: 0.5282 - val_accuracy: 0.6927 - val_loss: 0.5812\n",
      "Epoch 8/30\n",
      "\u001b[1m19/19\u001b[0m \u001b[32m━━━━━━━━━━━━━━━━━━━━\u001b[0m\u001b[37m\u001b[0m \u001b[1m79s\u001b[0m 4s/step - accuracy: 0.7605 - loss: 0.5006 - val_accuracy: 0.5339 - val_loss: 0.9250\n",
      "Epoch 9/30\n",
      "\u001b[1m19/19\u001b[0m \u001b[32m━━━━━━━━━━━━━━━━━━━━\u001b[0m\u001b[37m\u001b[0m \u001b[1m80s\u001b[0m 4s/step - accuracy: 0.7244 - loss: 0.5489 - val_accuracy: 0.7656 - val_loss: 0.4830\n",
      "Epoch 10/30\n",
      "\u001b[1m19/19\u001b[0m \u001b[32m━━━━━━━━━━━━━━━━━━━━\u001b[0m\u001b[37m\u001b[0m \u001b[1m62s\u001b[0m 3s/step - accuracy: 0.7953 - loss: 0.4263 - val_accuracy: 0.6615 - val_loss: 0.6255\n",
      "Epoch 11/30\n",
      "\u001b[1m19/19\u001b[0m \u001b[32m━━━━━━━━━━━━━━━━━━━━\u001b[0m\u001b[37m\u001b[0m \u001b[1m96s\u001b[0m 5s/step - accuracy: 0.8067 - loss: 0.4256 - val_accuracy: 0.7318 - val_loss: 0.5195\n",
      "Epoch 12/30\n",
      "\u001b[1m19/19\u001b[0m \u001b[32m━━━━━━━━━━━━━━━━━━━━\u001b[0m\u001b[37m\u001b[0m \u001b[1m72s\u001b[0m 4s/step - accuracy: 0.7873 - loss: 0.4770 - val_accuracy: 0.7500 - val_loss: 0.5019\n",
      "Epoch 13/30\n",
      "\u001b[1m19/19\u001b[0m \u001b[32m━━━━━━━━━━━━━━━━━━━━\u001b[0m\u001b[37m\u001b[0m \u001b[1m56s\u001b[0m 3s/step - accuracy: 0.7941 - loss: 0.4730 - val_accuracy: 0.6797 - val_loss: 0.6191\n",
      "Epoch 14/30\n",
      "\u001b[1m19/19\u001b[0m \u001b[32m━━━━━━━━━━━━━━━━━━━━\u001b[0m\u001b[37m\u001b[0m \u001b[1m65s\u001b[0m 4s/step - accuracy: 0.7765 - loss: 0.4871 - val_accuracy: 0.7786 - val_loss: 0.5045\n",
      "Epoch 15/30\n",
      "\u001b[1m19/19\u001b[0m \u001b[32m━━━━━━━━━━━━━━━━━━━━\u001b[0m\u001b[37m\u001b[0m \u001b[1m51s\u001b[0m 3s/step - accuracy: 0.7725 - loss: 0.4605 - val_accuracy: 0.7656 - val_loss: 0.5140\n",
      "Epoch 16/30\n",
      "\u001b[1m19/19\u001b[0m \u001b[32m━━━━━━━━━━━━━━━━━━━━\u001b[0m\u001b[37m\u001b[0m \u001b[1m56s\u001b[0m 3s/step - accuracy: 0.7863 - loss: 0.4590 - val_accuracy: 0.7318 - val_loss: 0.5084\n",
      "Epoch 17/30\n",
      "\u001b[1m19/19\u001b[0m \u001b[32m━━━━━━━━━━━━━━━━━━━━\u001b[0m\u001b[37m\u001b[0m \u001b[1m48s\u001b[0m 3s/step - accuracy: 0.8068 - loss: 0.3934 - val_accuracy: 0.7552 - val_loss: 0.5020\n",
      "Epoch 18/30\n",
      "\u001b[1m19/19\u001b[0m \u001b[32m━━━━━━━━━━━━━━━━━━━━\u001b[0m\u001b[37m\u001b[0m \u001b[1m48s\u001b[0m 3s/step - accuracy: 0.8084 - loss: 0.4328 - val_accuracy: 0.7812 - val_loss: 0.5092\n",
      "Epoch 19/30\n",
      "\u001b[1m19/19\u001b[0m \u001b[32m━━━━━━━━━━━━━━━━━━━━\u001b[0m\u001b[37m\u001b[0m \u001b[1m91s\u001b[0m 5s/step - accuracy: 0.8395 - loss: 0.3776 - val_accuracy: 0.7109 - val_loss: 0.5298\n",
      "Epoch 20/30\n",
      "\u001b[1m19/19\u001b[0m \u001b[32m━━━━━━━━━━━━━━━━━━━━\u001b[0m\u001b[37m\u001b[0m \u001b[1m48s\u001b[0m 3s/step - accuracy: 0.8075 - loss: 0.4274 - val_accuracy: 0.7708 - val_loss: 0.4789\n",
      "Epoch 21/30\n",
      "\u001b[1m19/19\u001b[0m \u001b[32m━━━━━━━━━━━━━━━━━━━━\u001b[0m\u001b[37m\u001b[0m \u001b[1m67s\u001b[0m 4s/step - accuracy: 0.8614 - loss: 0.3290 - val_accuracy: 0.7917 - val_loss: 0.4664\n",
      "Epoch 22/30\n",
      "\u001b[1m19/19\u001b[0m \u001b[32m━━━━━━━━━━━━━━━━━━━━\u001b[0m\u001b[37m\u001b[0m \u001b[1m65s\u001b[0m 4s/step - accuracy: 0.8369 - loss: 0.3711 - val_accuracy: 0.7943 - val_loss: 0.4920\n",
      "Epoch 23/30\n",
      "\u001b[1m19/19\u001b[0m \u001b[32m━━━━━━━━━━━━━━━━━━━━\u001b[0m\u001b[37m\u001b[0m \u001b[1m42s\u001b[0m 2s/step - accuracy: 0.8151 - loss: 0.3851 - val_accuracy: 0.7734 - val_loss: 0.4688\n",
      "Epoch 24/30\n",
      "\u001b[1m19/19\u001b[0m \u001b[32m━━━━━━━━━━━━━━━━━━━━\u001b[0m\u001b[37m\u001b[0m \u001b[1m68s\u001b[0m 4s/step - accuracy: 0.8430 - loss: 0.3721 - val_accuracy: 0.7630 - val_loss: 0.4602\n",
      "Epoch 25/30\n",
      "\u001b[1m19/19\u001b[0m \u001b[32m━━━━━━━━━━━━━━━━━━━━\u001b[0m\u001b[37m\u001b[0m \u001b[1m66s\u001b[0m 4s/step - accuracy: 0.8362 - loss: 0.3597 - val_accuracy: 0.7552 - val_loss: 0.4898\n",
      "Epoch 26/30\n",
      "\u001b[1m19/19\u001b[0m \u001b[32m━━━━━━━━━━━━━━━━━━━━\u001b[0m\u001b[37m\u001b[0m \u001b[1m56s\u001b[0m 3s/step - accuracy: 0.8208 - loss: 0.3730 - val_accuracy: 0.7760 - val_loss: 0.4271\n",
      "Epoch 27/30\n",
      "\u001b[1m19/19\u001b[0m \u001b[32m━━━━━━━━━━━━━━━━━━━━\u001b[0m\u001b[37m\u001b[0m \u001b[1m55s\u001b[0m 3s/step - accuracy: 0.8254 - loss: 0.3809 - val_accuracy: 0.7812 - val_loss: 0.4444\n",
      "Epoch 28/30\n",
      "\u001b[1m19/19\u001b[0m \u001b[32m━━━━━━━━━━━━━━━━━━━━\u001b[0m\u001b[37m\u001b[0m \u001b[1m44s\u001b[0m 2s/step - accuracy: 0.8749 - loss: 0.3405 - val_accuracy: 0.7943 - val_loss: 0.4010\n",
      "Epoch 29/30\n",
      "\u001b[1m19/19\u001b[0m \u001b[32m━━━━━━━━━━━━━━━━━━━━\u001b[0m\u001b[37m\u001b[0m \u001b[1m51s\u001b[0m 3s/step - accuracy: 0.8469 - loss: 0.3347 - val_accuracy: 0.8073 - val_loss: 0.4494\n",
      "Epoch 30/30\n",
      "\u001b[1m19/19\u001b[0m \u001b[32m━━━━━━━━━━━━━━━━━━━━\u001b[0m\u001b[37m\u001b[0m \u001b[1m58s\u001b[0m 3s/step - accuracy: 0.8404 - loss: 0.3830 - val_accuracy: 0.7865 - val_loss: 0.5433\n"
     ]
    },
    {
     "name": "stderr",
     "output_type": "stream",
     "text": [
      "WARNING:absl:You are saving your model as an HDF5 file via `model.save()` or `keras.saving.save_model(model)`. This file format is considered legacy. We recommend using instead the native Keras format, e.g. `model.save('my_model.keras')` or `keras.saving.save_model(model, 'my_model.keras')`. \n"
     ]
    }
   ],
   "source": [
    "steps_per_epoch_train = len(train_dataset)//train_dataset.batch_size\n",
    "steps_per_epoch_validation = len(validation_dataset)//validation_dataset.batch_size\n",
    "model_fit = model.fit(train_dataset,\n",
    "                     steps_per_epoch = steps_per_epoch_train,\n",
    "                     epochs= 30,\n",
    "                     validation_data= validation_dataset,\n",
    "                     validation_steps = steps_per_epoch_validation)\n",
    "\n",
    "model.save('cnn_model.h5')"
   ]
  }
 ],
 "metadata": {
  "kernelspec": {
   "display_name": "Python 3",
   "language": "python",
   "name": "python3"
  },
  "language_info": {
   "codemirror_mode": {
    "name": "ipython",
    "version": 3
   },
   "file_extension": ".py",
   "mimetype": "text/x-python",
   "name": "python",
   "nbconvert_exporter": "python",
   "pygments_lexer": "ipython3",
   "version": "3.11.4"
  }
 },
 "nbformat": 4,
 "nbformat_minor": 2
}
